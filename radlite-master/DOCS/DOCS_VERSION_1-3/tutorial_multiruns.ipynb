{
 "cells": [
  {
   "cell_type": "markdown",
   "metadata": {},
   "source": [
    "# Tutorial for Handling Multiple Runs of RADLite"
   ]
  },
  {
   "cell_type": "markdown",
   "metadata": {},
   "source": [
    "**Welcome!**\n",
    "\n",
    "This tutorial walks through how to generate, combine, and/or compare spectra from across different runs (e.g., for different molecules or different physical models) of RADLite.\n",
    "\n",
    "***NOTE: This tutorial assumes that the user has already read through the previous tutorials \"tutorial_RadliteModel.ipynb\" and \"tutorial_RadliteSpectrum.ipynb\").***\n",
    "\n",
    "Here are all of the topics that we'll cover:\n",
    "\n",
    "- Getting started\n",
    "- Performing multiple runs of RADLite\n",
    "- Generating a spectrum from across different runs\n",
    "- Comparing spectra from different models\n",
    "\n",
    "***Preceding tutorial: \"tutorial_RadliteSpectrum.ipynb\".***\n",
    "***Next tutorial: \"tutorial_newmodels.ipynb\".***"
   ]
  },
  {
   "cell_type": "markdown",
   "metadata": {},
   "source": [
    "## Getting started"
   ]
  },
  {
   "cell_type": "markdown",
   "metadata": {},
   "source": [
    "Let's import our package as we usually do:"
   ]
  },
  {
   "cell_type": "code",
   "execution_count": null,
   "metadata": {},
   "outputs": [],
   "source": [
    "#Add path to Python-RADLite package to system\n",
    "import sys\n",
    "sys.path.append(\"../../pyradlite/pyradlite/\")\n",
    "\n",
    "#Import Python-RADLite package\n",
    "import radlite as RDL"
   ]
  },
  {
   "cell_type": "markdown",
   "metadata": {},
   "source": [
    "Let's also set up strings for the input file, HITRAN data file, and RADMC output paths:"
   ]
  },
  {
   "cell_type": "code",
   "execution_count": null,
   "metadata": {},
   "outputs": [],
   "source": [
    "inmodfilename = \"files_for_tutorials/input_radlite.json\" #Input file with RADLite parameters\n",
    "inspecfilename = \"files_for_tutorials/input_spectrum.json\" #Input file with RADLite parameters\n",
    "hitranfilename = \"files_for_tutorials/data_hitran.json\" #Input file with HITRAN parameters\n",
    "radmcfilepath = \"files_for_tutorials/radmc_outputs/\" ##Path to the RADMC output files"
   ]
  },
  {
   "cell_type": "markdown",
   "metadata": {},
   "source": [
    "## Performing multiple runs of RADLite"
   ]
  },
  {
   "cell_type": "markdown",
   "metadata": {},
   "source": [
    "We can use $\\textit{RDL}$ to loop through/run RADLite for different molecule or model setups.  This is a useful technique for comparing the spectra of different sources, or forming a single spectrum consisting of multiple molecules.  Either way, we only need to do the following for each molecule/model:\n",
    "\n",
    "1. Edit the base input file (particularly the \"run_dir\" parameter, which is the name of the folder that will contain the output files).\n",
    "    - If we want to change the underlying physical model, then we need to change the \"inp_path\" parameter, which points to the folder containing the output files produced by RADMC.\n",
    "    - If we want to change the molecule (but maintain the same underlying physical model), then we need to change the molecular parameters as applicable (\"molname\", \"temp_fr\", \"min_abund\", etc.).\n",
    "2. Initialize a new instance of $\\textit{RadliteModel}$ using the updated input file\n",
    "3. Run the $\\textit{run_radlite}$ method\n",
    "\n",
    "In this tutorial, we'll take a look specifically at a multiple-molecule case (but this approach could certainly be more widely applied).\n",
    "\n",
    "We're going to use this approach to generate 3 different RADLite runs using the same underlying physical model, containing the molecules C$^{18}$O, ortho-H$_2$O, and para-H$_2$O.\n",
    "\n",
    "Let's start by looping through the input files.  One way to do this would be to explicitly save 3 different input files, and then loop through them.  We're going to do it another way in just a few blocks, but the code for the explicit approach is still available in the next block.  You're more than welcome to explicitly go in and duplicate the input file provided with this tutorial set (\"files_for_tutorial/input_radlite.json\"), change the parameters, and then fill in the blanks below:"
   ]
  },
  {
   "cell_type": "raw",
   "metadata": {},
   "source": [
    "#Turn this block into Code (using the ipython toolbar) if you want to try the explicit way\n",
    "\n",
    "#Set up the files\n",
    "filename1 = #Name of the first .json input file\n",
    "filename2 = #Name of the second .json input file\n",
    "filename3 = #Name of the third .json input file\n",
    "file_list = [filename1, filename2, filename3] #List of all filenames\n",
    "numruns = len(file_list)\n",
    "\n",
    "#Loop through the files\n",
    "mod_list = [None]*numruns #Initialize empty list to hold RadliteModel instances\n",
    "for ii in range(0, numruns):\n",
    "    #Initialize new instance of RadliteModel\n",
    "    mod_list[ii] = RDL.RadliteModel(infilename=file_list[ii], hitranfilename=hitranfilename,\n",
    "                                radmcfilepath=radmcfilepath)\n",
    "    #Run the run_radlite() method\n",
    "    mod_list[ii].run_radlite()"
   ]
  },
  {
   "cell_type": "markdown",
   "metadata": {},
   "source": [
    "For this tutorial, however, we're going to edit the base input file in place using the $\\textit{json}$ Python package.  We'll save the edited version under a placeholding name, and with each new run we'll override the changes we made before.\n",
    "\n",
    "First, let's save a list of parameters that we want to change within the base file for each run:"
   ]
  },
  {
   "cell_type": "code",
   "execution_count": null,
   "metadata": {},
   "outputs": [],
   "source": [
    "#List of parameters per run to change from what's already in the base file\n",
    "numruns = 3 #Total number of runs included\n",
    "run_dir_list = [\"rundir_12CO\", \"rundir_oH2O\", \"rundir_pH2O\"] #Names for run output directories\n",
    "molname_list = [\"C18O\", \"H2O\", \"H2O\"] #Molecule names for the runs\n",
    "\n",
    "#Some molecular traits that we are mostly made up\n",
    "max_abun_list = [1E-4]*numruns #These are made-up maximum abundances\n",
    "min_abun_list = [1E-9]*numruns #These are made-up minimum abundances\n",
    "temp_fr_list = [22, 273.2, 273.2] #[Kelvin]; These are actually somewhat realistic temperatures\n",
    "whichop_list = [\"both\", \"o\", \"p\"] #Ortho vs. para; only matters for H2O in this case\n",
    "\n",
    "#We're also changing the values below so that the runs don't take too long to finish\n",
    "max_Eup_list = [4000]*numruns #Maximum upper energy level allowed\n",
    "passband_list = [80.0, 30.0, 30.0] #Velocity span over which mol. lines will be calculated"
   ]
  },
  {
   "cell_type": "markdown",
   "metadata": {},
   "source": [
    "Next, let's loop through the different runs, overriding a placeholding .json file each time (feel free to set $\\textit{verbose=False}$ at the top of the block if you don't want the verbal output printed for each model).  The following block of code should take ~2 minutes to run:"
   ]
  },
  {
   "cell_type": "code",
   "execution_count": null,
   "metadata": {},
   "outputs": [],
   "source": [
    "verbose = True #Set this to False if you don't want verbal output printed for each model\n",
    "#Also set an interesting line range\n",
    "mu_min = 63.5\n",
    "mu_max = 64.5\n",
    "\n",
    "#Import json - allows us to read/process/write .json files\n",
    "import json\n",
    "\n",
    "#Read in base input .json file as a dictionary\n",
    "with open(inmodfilename, 'r') as openfile:\n",
    "    in_dict = json.load(openfile)\n",
    "\n",
    "#Globally turn on/off verbal output\n",
    "in_dict[\"verbose\"][\"value\"] = verbose\n",
    "#Globally set an interesting line range\n",
    "in_dict[\"min_mu\"][\"value\"] = mu_min\n",
    "in_dict[\"max_mu\"][\"value\"] = mu_max\n",
    "\n",
    "#Set up placeholding .json file\n",
    "tempinfile = \"tempinfile.json\"\n",
    "\n",
    "#Loop through the different runs\n",
    "mod_list = [None]*numruns #Initialize list to hold each RadliteModel instance\n",
    "for ii in range(0, numruns):\n",
    "    #Edit the parameters within the read-in dictionary; replace with values for this run\n",
    "    in_dict[\"run_dir\"][\"value\"] = run_dir_list[ii] #Changing the output directory for the run\n",
    "    in_dict[\"molname\"][\"value\"] = molname_list[ii] #Changing the molecule\n",
    "    #\n",
    "    in_dict[\"min_abun\"][\"value\"] = min_abun_list[ii] #Changing the minimum abundance\n",
    "    in_dict[\"max_abun\"][\"value\"] = max_abun_list[ii] #Changing the maximum abundance\n",
    "    in_dict[\"temp_fr\"][\"value\"] = temp_fr_list[ii] #Changing the freeze-out temperature\n",
    "    in_dict[\"whichop\"][\"value\"] = whichop_list[ii] #Changing the ortho vs. para criterion\n",
    "    #\n",
    "    in_dict[\"max_Eup\"][\"value\"] = max_Eup_list[ii] #Changing the maximum upper energy allowed\n",
    "    in_dict[\"passband\"][\"value\"] = passband_list[ii] #Changing the velocity span per mol. line\n",
    "    #\n",
    "    \n",
    "    #Save the edited dictionary as the placeholding .json file\n",
    "    with open(tempinfile, 'w') as openfile:\n",
    "        json.dump(in_dict, openfile)\n",
    "    \n",
    "    #Initialize a new instance of the RadliteModel class\n",
    "    mod_list[ii] = RDL.RadliteModel(infilename=tempinfile, hitranfilename=hitranfilename,\n",
    "                                radmcfilepath=radmcfilepath)\n",
    "    \n",
    "    #Run the run_radlite() method\n",
    "    mod_list[ii].run_radlite()\n",
    "    print(\"The {0}th model has finished!\\n\\n\\n\".format(ii))"
   ]
  },
  {
   "cell_type": "markdown",
   "metadata": {},
   "source": [
    "And that's it for running multiple RADLite sessions!  We now have the output from each run stored in their own neat little folders."
   ]
  },
  {
   "cell_type": "markdown",
   "metadata": {},
   "source": [
    "## Generating a spectrum from across different runs"
   ]
  },
  {
   "cell_type": "markdown",
   "metadata": {},
   "source": [
    "Now that we have output from multiple runs of RADLite, we can combine them by listing the run directories for the $\\textit{run_paths}$ parameter within the input spectrum .json file (\"input_spectrum.json\").  Feel free to go into the file and explicitly change this parameter yourself.  But to really drive the point home about simply editing a base .json file, we will use the same trick we pulled before to update a 'placeholding' .json file that we can then feed into the code, like so:"
   ]
  },
  {
   "cell_type": "code",
   "execution_count": null,
   "metadata": {},
   "outputs": [],
   "source": [
    "#Read in base input .json file as a dictionary\n",
    "with open(inspecfilename, 'r') as openfile:\n",
    "    in_dict = json.load(openfile)\n",
    "\n",
    "#Set up placeholding .json file again\n",
    "tempinfile = \"tempinfile.json\"\n",
    "\n",
    "#Edit the run_paths parameter within the read-in dictionary to point to the new output folders\n",
    "out_dir_list = [(rdhere+\"/outputdir/\") for rdhere in run_dir_list] #Tack on \"outputdir\"\n",
    "in_dict[\"run_paths\"][\"value\"] = out_dir_list\n",
    "\n",
    "#Save the edited dictionary as the placeholding .json file\n",
    "with open(tempinfile, 'w') as openfile:\n",
    "    json.dump(in_dict, openfile)\n",
    "\n",
    "#Initialize an instance of the RadliteSpectrum class\n",
    "multiSpec = RDL.RadliteSpectrum(infilename=tempinfile)"
   ]
  },
  {
   "cell_type": "markdown",
   "metadata": {},
   "source": [
    "And now we can generate the full spectrum, as we have done before:"
   ]
  },
  {
   "cell_type": "code",
   "execution_count": null,
   "metadata": {},
   "outputs": [],
   "source": [
    "multiSpec.gen_spec()"
   ]
  },
  {
   "cell_type": "markdown",
   "metadata": {},
   "source": [
    "And we're done!  Let's take a look at all of the lines we have within this one spectrum:"
   ]
  },
  {
   "cell_type": "code",
   "execution_count": null,
   "metadata": {},
   "outputs": [],
   "source": [
    "molinfo = multiSpec.get_attr(\"molinfo\") #Extracted molecular information\n",
    "\n",
    "#Extract the sorted indices so that we can print the information in order\n",
    "import numpy as np #Import numpy so that we can extract the sorted indices\n",
    "sortinds = np.argsort([molinfo[ii][\"wavelength\"]\n",
    "                       for ii in range(0, len(molinfo))]) #Indices for sorting by wavelength\n",
    "\n",
    "#Print the molecular information for the entire spectrum\n",
    "print(\"There are {0} molecular lines within this spectrum.\".format(len(molinfo)))\n",
    "print(\"Here are all molecules, central wavelengths [microns], and upper energies [K]:\")\n",
    "for ii in sortinds:\n",
    "    print(\"{0}: {1:.4f}cm, {2:.4f}K\".format(molinfo[ii][\"molname\"],\n",
    "                                            (molinfo[ii][\"wavelength\"]*1E4),\n",
    "                                            molinfo[ii][\"Eup_K\"]))"
   ]
  },
  {
   "cell_type": "markdown",
   "metadata": {},
   "source": [
    "And now let's plot the final spectrum:"
   ]
  },
  {
   "cell_type": "code",
   "execution_count": null,
   "metadata": {},
   "outputs": [],
   "source": [
    "#Plot the spectrum\n",
    "multiSpec.plot_spec(\"spectrum\", linewidth=2, figsize=(15,7))"
   ]
  },
  {
   "cell_type": "markdown",
   "metadata": {},
   "source": [
    "## Comparing spectra from different models"
   ]
  },
  {
   "cell_type": "markdown",
   "metadata": {},
   "source": [
    "We can also compare spectra across different models.  For example, say we want to consider the multi-molecular spectrum we generated previously at different source distances.  We can do so by (1) editing the base input file for $\\textit{RadliteSpectrum}$, (2) generating each spectrum within a different $\\textit{RadliteSpectrum}$ instance, and then (3) overlapping the plots (as we have done in a previous tutorial), like so:"
   ]
  },
  {
   "cell_type": "code",
   "execution_count": null,
   "metadata": {},
   "outputs": [],
   "source": [
    "#Read in base input .json file as a dictionary\n",
    "with open(inspecfilename, 'r') as openfile:\n",
    "    in_dict = json.load(openfile)\n",
    "\n",
    "#Set up placeholding .json file once again\n",
    "tempinfile = \"tempinfile.json\"\n",
    "\n",
    "#Globally edit the run_paths parameter within the read-in dictionary\n",
    "out_dir_list = [(rdhere+\"/outputdir/\") for rdhere in run_dir_list] #Tack on \"outputdir\"\n",
    "in_dict[\"run_paths\"][\"value\"] = out_dir_list\n",
    "\n",
    "#Set up new distances to consider\n",
    "dist_list = [25, 50, 100, 200] #All in [pc]\n",
    "numspecs = len(dist_list) #Number of spectra to compare"
   ]
  },
  {
   "cell_type": "code",
   "execution_count": null,
   "metadata": {},
   "outputs": [],
   "source": [
    "#Loop through the different distances\n",
    "spec_list = [None]*numspecs #Initialize list to hold instances of RadliteSpectrum\n",
    "for ii in range(0, numspecs):\n",
    "    #Change the distance within the read-in dictionary\n",
    "    in_dict[\"dist\"][\"value\"] = dist_list[ii]\n",
    "    \n",
    "    #Save the edited dictionary as the placeholding .json file\n",
    "    with open(tempinfile, 'w') as openfile:\n",
    "        json.dump(in_dict, openfile)\n",
    "\n",
    "    #Initialize an instance of the RadliteSpectrum class\n",
    "    spec_list[ii] = RDL.RadliteSpectrum(infilename=tempinfile)\n",
    "    \n",
    "    #Generate the current spectrum\n",
    "    spec_list[ii].gen_spec()"
   ]
  },
  {
   "cell_type": "code",
   "execution_count": null,
   "metadata": {},
   "outputs": [],
   "source": [
    "#Plot the spectra on the same plot (using the dopart=True technique discussed previously)\n",
    "color_list = [\"gray\", \"turquoise\", \"purple\", \"black\"] #Colors to use for the lines\n",
    "linestyle_list = [\"-\", \"--\", \"-\", \"--\"]\n",
    "alpha = 0.7 #Measure of translucency\n",
    "linewidth = 3 #Line thickness\n",
    "leglabel_list = [\"{0:d}pc\".format(dist_list[ii]) for ii in range(0, numspecs)] #Legend labels\n",
    "\n",
    "#First set up a base figure\n",
    "import matplotlib.pyplot as plt #We need this import so that we can create a base figure\n",
    "fig = plt.figure(figsize=(10, 10)) #The base figure\n",
    "\n",
    "#Iterate through the spectra (NOT including the very last one)\n",
    "for ii in range(0, numspecs-1):\n",
    "    #Place the full spectrum on the plot\n",
    "    spec_list[ii].plot_spec(\"spectrum\",\n",
    "                     fig=fig, #The code will add this line to the base figure\n",
    "                     dopart=True, #This tells the code that this is an incomplete figure\n",
    "                     linecolor=color_list[ii], linewidth=linewidth,\n",
    "                     linestyle=linestyle_list[ii], alpha=alpha,\n",
    "                     leglabel=leglabel_list[ii]) #Label for the legend\n",
    "\n",
    "#Place the very last spectrum on the plot and also label/display the overall plot\n",
    "spec_list[-1].plot_spec(\"spectrum\",\n",
    "                 fig=fig, #The code will add this line to the base figure\n",
    "                 ylog=True, #Make the y-axis log-scale\n",
    "                 dopart=False, #This tells the code that this is now a complete figure\n",
    "                 linecolor=color_list[-1], linewidth=linewidth,\n",
    "                 linestyle=linestyle_list[-1], alpha=alpha,\n",
    "                 dolegend=True, legloc=\"upper right\", #Place a legend for the figure\n",
    "                 leglabel=leglabel_list[-1], #Label for the legend\n",
    "                 axisfontsize=20, titlefontsize=22,\n",
    "                 tickfontsize=18, legfontsize=20, #Update the fontsizes\n",
    "                 title=\"An Informative Comparison Plot\") #Title for the plot"
   ]
  },
  {
   "cell_type": "markdown",
   "metadata": {},
   "source": [
    "This approach also certainly has multiple applications.  Have fun exploring them!\n",
    "\n",
    "In the **next tutorial (\"tutorial_newmodels.ipynb\")**, we'll demonstrate how to use the RADLiteModel class as a base for other phsyical RADLite models."
   ]
  }
 ],
 "metadata": {
  "kernelspec": {
   "display_name": "Python 3",
   "language": "python",
   "name": "python3"
  },
  "language_info": {
   "codemirror_mode": {
    "name": "ipython",
    "version": 3
   },
   "file_extension": ".py",
   "mimetype": "text/x-python",
   "name": "python",
   "nbconvert_exporter": "python",
   "pygments_lexer": "ipython3",
   "version": "3.7.3"
  }
 },
 "nbformat": 4,
 "nbformat_minor": 2
}
