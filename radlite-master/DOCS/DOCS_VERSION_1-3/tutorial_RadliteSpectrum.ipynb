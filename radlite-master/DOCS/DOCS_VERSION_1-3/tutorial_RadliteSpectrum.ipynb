{
 "cells": [
  {
   "cell_type": "markdown",
   "metadata": {},
   "source": [
    "# Tutorial for $\\textit{RadliteSpectrum}$"
   ]
  },
  {
   "cell_type": "markdown",
   "metadata": {},
   "source": [
    "**Welcome!**\n",
    "\n",
    "This tutorial walks through the basic functionalities of the $\\textit{RadliteSpectrum}$ class.  With this class, we can ultimately process the output produced by the ray-tracing code RADLite and produce a spectrum.\n",
    "\n",
    "***NOTE: This tutorial requires that RADLite output has already been generated (such as via the previous tutorial, \"tutorial_RadliteModel.ipynb\").***\n",
    "\n",
    "Here are all of the topics that we'll cover:\n",
    "\n",
    "- Getting started\n",
    "- Initializing the $\\textit{RadliteSpectrum}$ class\n",
    "- Generating the spectrum\n",
    "- Accessing the RADLite setup and spectrum (and units)\n",
    "- Plotting the spectrum\n",
    "    - General procedure\n",
    "    - Overlapping plots\n",
    "- Saving the spectrum as a fits file\n",
    "\n",
    "***Preceding tutorial: \"tutorial_RadliteModel.ipynb\".***\n",
    "***Next tutorial: \"tutorial_multiruns.ipynb\".***"
   ]
  },
  {
   "cell_type": "markdown",
   "metadata": {},
   "source": [
    "## Getting started\n",
    "\n",
    "To make this tutorial a bit more robust to different installation styles (e.g., if you've directly downloaded the code from Github), we'll first directly add the path to the package to system path file using the Python $\\textit{sys}$ package:"
   ]
  },
  {
   "cell_type": "code",
   "execution_count": null,
   "metadata": {},
   "outputs": [],
   "source": [
    "#Add path to Python-RADLite package to system\n",
    "import sys\n",
    "sys.path.append(\"../../pyradlite/pyradlite/\")"
   ]
  },
  {
   "cell_type": "markdown",
   "metadata": {},
   "source": [
    "And now we import the Python-RADLite module from within $\\textit{pyradlite}$:"
   ]
  },
  {
   "cell_type": "code",
   "execution_count": null,
   "metadata": {},
   "outputs": [],
   "source": [
    "#Import Python-RADLite package\n",
    "import radlite as RDL"
   ]
  },
  {
   "cell_type": "markdown",
   "metadata": {},
   "source": [
    "We'll refer to the Python-RADLite module as $\\textit{RDL}$ from here on out."
   ]
  },
  {
   "cell_type": "markdown",
   "metadata": {},
   "source": [
    "## Initializing the $\\textit{RadliteSpectrum}$ class"
   ]
  },
  {
   "cell_type": "markdown",
   "metadata": {},
   "source": [
    "Next, we define the paths+filename to the input .json file that $\\textit{RadliteSpectrum}$ needs to run.  This file, which we have named \"input_spectrum.json\", contains all of the parameters necessary to generate a spectrum from RADLite output.  You're welcome to go in and play around with different values, but **please don't remove any of the inputs!!!**  The code needs those values to run."
   ]
  },
  {
   "cell_type": "code",
   "execution_count": null,
   "metadata": {},
   "outputs": [],
   "source": [
    "#Path+name string to the .json input file\n",
    "infilename = \"files_for_tutorials/input_spectrum.json\" #Input file with spectrum parameters"
   ]
  },
  {
   "cell_type": "markdown",
   "metadata": {},
   "source": [
    "Now let's initialize an instance of the $\\textit{RadliteSpectrum}$ class.  By default we have set $\\textit{verbose=True}$ in the input file \"input_spectrum.json\", so when you run the next cell you should get lots of appropriately-verbose messages telling you what's happening behind-the-scenes:"
   ]
  },
  {
   "cell_type": "code",
   "execution_count": null,
   "metadata": {},
   "outputs": [],
   "source": [
    "#Initialize an instance of the RadliteModel() class\n",
    "mySpec = RDL.RadliteSpectrum(infilename=infilename)"
   ]
  },
  {
   "cell_type": "markdown",
   "metadata": {},
   "source": [
    "If all went well, you should see a message towards the bottom of the verbose output telling you that $\\textit{RadliteSpectrum}$ has been successfully initialized."
   ]
  },
  {
   "cell_type": "markdown",
   "metadata": {},
   "source": [
    "## Generating the spectrum"
   ]
  },
  {
   "cell_type": "markdown",
   "metadata": {},
   "source": [
    "In the previous tutorial, we generated RADLite output using the $\\textit{RadliteModel}$ class and placed it in the \"rundir\" folder.  Now we can generate a spectrum from that output using the $\\textit{gen_spec}$ method, like so:"
   ]
  },
  {
   "cell_type": "code",
   "execution_count": null,
   "metadata": {},
   "outputs": [],
   "source": [
    "mySpec.gen_spec()"
   ]
  },
  {
   "cell_type": "markdown",
   "metadata": {},
   "source": [
    "*(If you sent the $\\textit{RadliteModel}$ output to a different run folder, then be sure to change the run name within the input file.)*\n",
    "\n",
    "And that's it!  We have successfully generated the spectrum.  You should see a list of the spectral products towards the bottom of the verbal output.  We'll talk about accessing/plotting them in the next sections.\n",
    "\n",
    "In the meantime, you're welcome to play around with the parameters in the input file (the distance \"dist\", the interpolation \"interpolation\", the observation resolution \"obsres\", etc.) and see how they affect the spectral products when we access/plot them next."
   ]
  },
  {
   "cell_type": "markdown",
   "metadata": {},
   "source": [
    "## Accessing the RADLite setup and spectrum (and units)"
   ]
  },
  {
   "cell_type": "markdown",
   "metadata": {},
   "source": [
    "We can retrieve the spectrum, and any of the input parameters we used to initialize this class, using the $\\textit{get_attr}$ method.  We only have to pass in the string name of the attribute.  Here are some examples:"
   ]
  },
  {
   "cell_type": "code",
   "execution_count": null,
   "metadata": {},
   "outputs": [],
   "source": [
    "#Print the number of cores assigned to this instance\n",
    "print(mySpec.get_attr(\"numcores\"))\n",
    "\n",
    "#Print the distance to the source emitting the spectrum\n",
    "print(mySpec.get_attr(\"dist\"))\n",
    "\n",
    "#Record and print the first 5 wavelength points\n",
    "waves = mySpec.get_attr(\"wavelength\")\n",
    "print(waves[0:5])\n",
    "\n",
    "#Record and print the first 5 wavelength points\n",
    "freqs = mySpec.get_attr(\"frequency\")\n",
    "print(freqs[0:5])\n",
    "\n",
    "#Record and print the first 5 full spectrum (emission+continuum) points\n",
    "specs = mySpec.get_attr(\"spectrum\")\n",
    "print(specs[0:5])\n",
    "\n",
    "#Record and print the first 5 emission-only points\n",
    "ems = mySpec.get_attr(\"emission\")\n",
    "print(ems[0:5])\n",
    "\n",
    "#Record and print the first 5 continuum-only points\n",
    "conts = mySpec.get_attr(\"continuum\")\n",
    "print(conts[0:5])"
   ]
  },
  {
   "cell_type": "markdown",
   "metadata": {},
   "source": [
    "We can get information on the molecular lines within this spectrum by accessing the attribute stored as \"molinfo\", like so:"
   ]
  },
  {
   "cell_type": "code",
   "execution_count": null,
   "metadata": {},
   "outputs": [],
   "source": [
    "molinfo = mySpec.get_attr(\"molinfo\")\n",
    "ind = 5\n",
    "print(\"Total number of molecular lines: {0}\".format(len(molinfo)))\n",
    "print(\"\")\n",
    "print(\"All information stored for the \"+str(ind)+\"th line: \")\n",
    "print(molinfo[ind])\n",
    "print(\"This line is molecule {0}. Its central wavenumber is {1}.  Its upper energy is {2}.\"\n",
    "         .format(molinfo[ind][\"molname\"], molinfo[ind][\"wavenum\"], molinfo[ind][\"Eup\"]))"
   ]
  },
  {
   "cell_type": "markdown",
   "metadata": {},
   "source": [
    "If we are ever unsure of the exact name of a quantity, then we can pass in the string \"help\", and the code will throw a helpful error returning all attributes that we can access through this method:"
   ]
  },
  {
   "cell_type": "code",
   "execution_count": null,
   "metadata": {},
   "outputs": [],
   "source": [
    "#Uncomment the code below to produce the error\n",
    "\n",
    "#mySpec.get_attr(\"help\")"
   ]
  },
  {
   "cell_type": "markdown",
   "metadata": {},
   "source": [
    "We can also get the automatic units (in Latex notation) for any of the spectral quantities using the $\\textit{get_unit}$ method, like so:"
   ]
  },
  {
   "cell_type": "code",
   "execution_count": null,
   "metadata": {},
   "outputs": [],
   "source": [
    "#Print the units for the wavelengths and the frequencies\n",
    "print(mySpec.get_unit(\"wavelength\")) #For the wavelengths\n",
    "print(mySpec.get_unit(\"frequency\")) #For the frequencies\n",
    "#\n",
    "#Print the units for the full spectrum\n",
    "print(mySpec.get_unit(\"spectrum\"))"
   ]
  },
  {
   "cell_type": "markdown",
   "metadata": {},
   "source": [
    "Note that $\\textit{get_unit}$ doesn't give the correct units for user-specified inputs that we passed in during initialization - we'll only get back an empty string.  But we can always refer back to the input file itself if we want to see the units assumed for those input quantities."
   ]
  },
  {
   "cell_type": "markdown",
   "metadata": {},
   "source": [
    "## Plotting the spectrum"
   ]
  },
  {
   "cell_type": "markdown",
   "metadata": {},
   "source": [
    "We can use the *simple* $\\textit{plot_spec}$ method (emphasis on the word *simple*) to plot any of the spectral data that we have generated."
   ]
  },
  {
   "cell_type": "markdown",
   "metadata": {},
   "source": [
    "### General procedure\n",
    "\n",
    "We can quickly plot any of the spectral data by passing in the name of the attribute.    For example, we can plot the full spectrum by passing in \"spectrum\":"
   ]
  },
  {
   "cell_type": "code",
   "execution_count": null,
   "metadata": {},
   "outputs": [],
   "source": [
    "#Plot the spectrum\n",
    "mySpec.plot_spec(\"spectrum\")"
   ]
  },
  {
   "cell_type": "markdown",
   "metadata": {},
   "source": [
    "Since we did not specify an x-axis attribute, the code assumed that we would plot the spectrum against wavelength.  To plot against, say, frequency, we would need to set the x-axis attribute using the $\\textit{xattrname}$ parameter, like so:"
   ]
  },
  {
   "cell_type": "code",
   "execution_count": null,
   "metadata": {},
   "outputs": [],
   "source": [
    "#Plot the spectrum, but now against frequency\n",
    "mySpec.plot_spec(\"spectrum\", xattrname=\"frequency\")"
   ]
  },
  {
   "cell_type": "markdown",
   "metadata": {},
   "source": [
    "In both cases, the code automatically populated the axes for us with labels and the automatic units.\n",
    "\n",
    "We can spiff this plot up a bit by passing in more parameters.  This method accepts several of the parameters used commonly by the matplotlib package.  For example, let's do the following for this plot of the spectrum:\n",
    "- Change the figure size\n",
    "- Change the units of the y-axis by scaling the values\n",
    "- Override the y-axis label and label unit\n",
    "- Make the markers visible by changing the size\n",
    "- Change the sizes/colors/styles of the markers and line\n",
    "- Increase all font sizes\n",
    "- Add a legend\n",
    "- Put in a title"
   ]
  },
  {
   "cell_type": "code",
   "execution_count": null,
   "metadata": {},
   "outputs": [],
   "source": [
    "#Set some parameters to pass into the plot_spec method\n",
    "\n",
    "#Overall figure changes\n",
    "figsize = (10, 10) #Figure size\n",
    "title = \"A Spiffy Spectrum\" #Set the title of the figure\n",
    "\n",
    "#Scale and unit changes\n",
    "yscaler = 1000 #Multiplicative factor; will scale the y-axis from Jy to mJy\n",
    "ylabel = r\"$^{12}$CO Spectral Data\" #Override the y-axis label\n",
    "yunit = \"mJy\" #Override the y-axis label unit\n",
    "\n",
    "#Marker and line changes\n",
    "markercolor = \"gray\" #Marker color\n",
    "markerstyle = \".\" #Marker style\n",
    "markersize = 7 #Marker size\n",
    "linecolor = \"blue\" #Line color\n",
    "linestyle = \":\" #Line style\n",
    "linewidth = 2 #Line width\n",
    "alpha = 0.6 #Measure of translucence\n",
    "\n",
    "#Font and title changes\n",
    "axisfontsize = 20 #Axis fontsize\n",
    "titlefontsize = 22 #Title fontsize\n",
    "tickfontsize = 20 #Tick label fontsize\n",
    "legfontsize = 20 #Legend label fontsize\n",
    "\n",
    "#Legend setup\n",
    "dolegend = True #If True, will generate a plot legend\n",
    "leglabel = \"Full Spectrum\" #Label for this line in the legend\n",
    "legloc = \"best\" #Location of the legend on the plot\n",
    "\n",
    "#Plot the spectrum in a spiffier manner\n",
    "mySpec.plot_spec(\"spectrum\", figsize=figsize, yscaler=yscaler, yunit=yunit, ylabel=ylabel,\n",
    "                title=title, axisfontsize=axisfontsize, titlefontsize=titlefontsize,\n",
    "                tickfontsize=tickfontsize, legfontsize=legfontsize,\n",
    "                markerstyle=markerstyle, markercolor=markercolor,\n",
    "                markersize=markersize, linecolor=linecolor, linestyle=linestyle, alpha=alpha,\n",
    "                linewidth=linewidth, leglabel=leglabel, legloc=legloc, dolegend=dolegend)"
   ]
  },
  {
   "cell_type": "markdown",
   "metadata": {},
   "source": [
    "### **Note that we can always get a full list of the parameters for this method (** ***and any other method in this class*** **) by printing the method's docstring:**"
   ]
  },
  {
   "cell_type": "code",
   "execution_count": null,
   "metadata": {},
   "outputs": [],
   "source": [
    "#Print the docstring for this method\n",
    "print(mySpec.plot_spec.__doc__)"
   ]
  },
  {
   "cell_type": "markdown",
   "metadata": {},
   "source": [
    "We can save this plot (rather than displaying it) setting $\\textit{dosave=True}$ and passing in a name to save the plot under:"
   ]
  },
  {
   "cell_type": "code",
   "execution_count": null,
   "metadata": {},
   "outputs": [],
   "source": [
    "#Set a string name to save the plot\n",
    "savename = \"spiffyspec.png\"\n",
    "\n",
    "#Save the spiffy plot of the spectrum\n",
    "mySpec.plot_spec(\"spectrum\", figsize=figsize, yscaler=yscaler, yunit=yunit, ylabel=ylabel,\n",
    "                title=title, axisfontsize=axisfontsize, titlefontsize=titlefontsize,\n",
    "                tickfontsize=tickfontsize, legfontsize=legfontsize,\n",
    "                markerstyle=markerstyle, markercolor=markercolor,\n",
    "                markersize=markersize, linecolor=linecolor, linestyle=linestyle, alpha=alpha,\n",
    "                linewidth=linewidth, leglabel=leglabel, legloc=legloc, dolegend=dolegend,\n",
    "                dosave=True, savename=savename)"
   ]
  },
  {
   "cell_type": "markdown",
   "metadata": {},
   "source": [
    "### Overlapping Plots"
   ]
  },
  {
   "cell_type": "markdown",
   "metadata": {},
   "source": [
    "We can chain the plots together before displaying/saving them by setting $\\textit{dopart=True}$.  For example, let's put the full spectrum, the continuum, and the emission on the same figure.  We'll give each of them a different color and line style so that they appear distinctly in the legend, and then we'll display the entire figure.  We won't need to make any changes to the overall plot (such as the axis labels) until the end, but to change the units of the spectral data we do need to scale each call to the method individually:"
   ]
  },
  {
   "cell_type": "code",
   "execution_count": null,
   "metadata": {},
   "outputs": [],
   "source": [
    "#First set up a base figure\n",
    "import matplotlib.pyplot as plt #We need this import so that we can create a base figure\n",
    "fig = plt.figure(figsize=(10, 10)) #The base figure\n",
    "yscaler = 1000 #Scale the y-axes from Jy to mJy\n",
    "\n",
    "#Place the full spectrum on the plot\n",
    "mySpec.plot_spec(\"spectrum\",\n",
    "                 fig=fig, #The code will add this line to the base figure\n",
    "                 dopart=True, #This tells the code that this is an incomplete figure\n",
    "                 linecolor=\"turquoise\", linewidth=3, alpha=0.7,\n",
    "                 yscaler=yscaler, #Scale the y-axis of this spectral data\n",
    "                 leglabel=\"Full Spectrum\") #Label for the legend\n",
    "\n",
    "#Place the emission on the plot\n",
    "mySpec.plot_spec(\"emission\",\n",
    "                 fig=fig, #The code will add this line to the base figure\n",
    "                 dopart=True, #This tells the code that this is an incomplete figure\n",
    "                 linecolor=\"purple\", linewidth=2, alpha=0.6, linestyle=\":\",\n",
    "                 yscaler=yscaler, #Scale the y-axis of this spectral data\n",
    "                 leglabel=\"Emission\") #Label for the legend\n",
    "\n",
    "#Place the continuum on the plot\n",
    "#Since this is the last contribution, also deal with labels, etc. for the entire figure\n",
    "#Then allow the final figure to display\n",
    "mySpec.plot_spec(\"continuum\",\n",
    "                 fig=fig, #The code will add this line to the base figure\n",
    "                 dopart=False, #This tells the code that this is now a complete figure\n",
    "                 linecolor=\"gray\", linewidth=4, alpha=0.8, linestyle=\"--\",\n",
    "                 yscaler=yscaler, #Scale the y-axis of this spectral data\n",
    "                 ylabel=r\"$^{12}$CO Spectral Data\", yunit=\"mJy\", #Update y-axis label and unit\n",
    "                 dolegend=True, legloc=\"upper right\", #Place a legend for the figure\n",
    "                 leglabel=\"Continuum\", #Label for the legend\n",
    "                 axisfontsize=20, titlefontsize=22,\n",
    "                 tickfontsize=18, legfontsize=20, #Update the fontsizes\n",
    "                 title=\"A Spiffy Spectral Set\") #Title for the plot"
   ]
  },
  {
   "cell_type": "markdown",
   "metadata": {},
   "source": [
    "We could also have saved the previous overlapping figure.  We would just need to have passed $\\textit{dosave=True}$, and a filename for the $\\textit{savename}$ parameter, as we did in a previous example."
   ]
  },
  {
   "cell_type": "markdown",
   "metadata": {},
   "source": [
    "## Saving the spectrum as a fits file"
   ]
  },
  {
   "cell_type": "markdown",
   "metadata": {},
   "source": [
    "We can save the spectral data to a fits file by calling the $\\textit{write_fits}$ function:"
   ]
  },
  {
   "cell_type": "code",
   "execution_count": null,
   "metadata": {},
   "outputs": [],
   "source": [
    "#Prepare parameters for generating the fits file\n",
    "fitsname = \"specfits.fits\" #Name of the fits file to generate\n",
    "overwrite = True #If True, will overwrite any existing file under the given fitsname\n",
    "\n",
    "#Generate the .fits file\n",
    "mySpec.write_fits(fitsname, overwrite=overwrite)"
   ]
  },
  {
   "cell_type": "markdown",
   "metadata": {},
   "source": [
    "And that's it!\n",
    "\n",
    "We can read the fits file back in using a fits-reading package, which we import below:"
   ]
  },
  {
   "cell_type": "code",
   "execution_count": null,
   "metadata": {},
   "outputs": [],
   "source": [
    "#Import a fits Python package\n",
    "try:\n",
    "    import astropy.io.fits as fitter\n",
    "except ImportError: #If we don't have that particular fits package, we can try an older one\n",
    "    import pyfits as fitter"
   ]
  },
  {
   "cell_type": "markdown",
   "metadata": {},
   "source": [
    "And now we can read in the fits file, inspect the headers, and explore the data:"
   ]
  },
  {
   "cell_type": "code",
   "execution_count": null,
   "metadata": {},
   "outputs": [],
   "source": [
    "#Open the .fits file\n",
    "openfits = fitter.open(fitsname)\n",
    "print(len(openfits)) #Print number of subsets within the .fits file"
   ]
  },
  {
   "cell_type": "code",
   "execution_count": null,
   "metadata": {},
   "outputs": [],
   "source": [
    "#Inspect the 0th (main) header\n",
    "hdr = openfits[0].header\n",
    "hdr"
   ]
  },
  {
   "cell_type": "code",
   "execution_count": null,
   "metadata": {},
   "outputs": [],
   "source": [
    "#Print the (nonexistent) data in the 0th subset\n",
    "subset0 = openfits[0].data\n",
    "print(subset0) #This will give None"
   ]
  },
  {
   "cell_type": "code",
   "execution_count": null,
   "metadata": {},
   "outputs": [],
   "source": [
    "#Inspect the 1th header\n",
    "hdr = openfits[1].header\n",
    "hdr"
   ]
  },
  {
   "cell_type": "code",
   "execution_count": null,
   "metadata": {},
   "outputs": [],
   "source": [
    "#Extract data from the 1th subset\n",
    "subset1 = openfits[1].data\n",
    "\n",
    "#Print data from the 1th subset\n",
    "waves = subset1[\"wavelength\"]\n",
    "print(waves[0:10]) #Print first 10 wavelength points\n",
    "ems = subset1[\"emission\"]\n",
    "print(ems[0:5]) #Print first 5 emission points"
   ]
  },
  {
   "cell_type": "markdown",
   "metadata": {},
   "source": [
    "For the 2th subset, units are all either cgs or unitless (note that \"Eup\" is in units of 1/cm, while \"Eup_K\" is in units of Kelvin)."
   ]
  },
  {
   "cell_type": "code",
   "execution_count": null,
   "metadata": {},
   "outputs": [],
   "source": [
    "#Inspect the 2th header\n",
    "hdr = openfits[2].header\n",
    "hdr"
   ]
  },
  {
   "cell_type": "code",
   "execution_count": null,
   "metadata": {},
   "outputs": [],
   "source": [
    "#Extract data from the 2th subset\n",
    "subset2 = openfits[2].data\n",
    "\n",
    "#Print data from the 2th subset\n",
    "gups = subset2[\"gup\"]\n",
    "print(gups[0:10]) #Print first 10 upper degeneracies\n",
    "wavenums = subset2[\"wavenum\"]\n",
    "print(wavenums[0:5]) #Print first 5 central wavelengths"
   ]
  },
  {
   "cell_type": "code",
   "execution_count": null,
   "metadata": {},
   "outputs": [],
   "source": [
    "#Politely close the fits file\n",
    "openfits.close()"
   ]
  },
  {
   "cell_type": "markdown",
   "metadata": {},
   "source": [
    "In the **next tutorial (\"tutorial_multiruns.ipynb\")**, we'll look at how to generate spectral data from across multiple runs of RADLite, and how to plot them together."
   ]
  }
 ],
 "metadata": {
  "kernelspec": {
   "display_name": "Python 3",
   "language": "python",
   "name": "python3"
  },
  "language_info": {
   "codemirror_mode": {
    "name": "ipython",
    "version": 3
   },
   "file_extension": ".py",
   "mimetype": "text/x-python",
   "name": "python",
   "nbconvert_exporter": "python",
   "pygments_lexer": "ipython3",
   "version": "3.7.3"
  }
 },
 "nbformat": 4,
 "nbformat_minor": 2
}
